{
  "nbformat": 4,
  "nbformat_minor": 0,
  "metadata": {
    "colab": {
      "name": "Homework12_semisupervised.ipynb",
      "provenance": [],
      "collapsed_sections": []
    },
    "kernelspec": {
      "name": "python3",
      "display_name": "Python 3"
    },
    "language_info": {
      "name": "python"
    },
    "accelerator": "GPU"
  },
  "cells": [
    {
      "cell_type": "code",
      "source": [
        "!if [ -d dul_2021 ]; then rm -Rf dul_2021; fi\n",
        "!git clone https://github.com/GrigoryBartosh/dul_2021\n",
        "!pip install ./dul_2021"
      ],
      "metadata": {
        "id": "vEPPrGksax7-",
        "colab": {
          "base_uri": "https://localhost:8080/"
        },
        "outputId": "918f2936-0218-479d-c9bf-18ce937e7498"
      },
      "execution_count": 14,
      "outputs": [
        {
          "output_type": "stream",
          "name": "stdout",
          "text": [
            "Cloning into 'dul_2021'...\n",
            "remote: Enumerating objects: 384, done.\u001b[K\n",
            "remote: Counting objects: 100% (221/221), done.\u001b[K\n",
            "remote: Compressing objects: 100% (147/147), done.\u001b[K\n",
            "remote: Total 384 (delta 124), reused 101 (delta 67), pack-reused 163\u001b[K\n",
            "Receiving objects: 100% (384/384), 55.90 MiB | 8.06 MiB/s, done.\n",
            "Resolving deltas: 100% (181/181), done.\n",
            "Processing ./dul_2021\n",
            "\u001b[33m  DEPRECATION: A future pip version will change local packages to be built in-place without first copying to a temporary directory. We recommend you use --use-feature=in-tree-build to test your packages with this new behavior before it becomes the default.\n",
            "   pip 21.3 will remove support for this functionality. You can find discussion regarding this at https://github.com/pypa/pip/issues/7555.\u001b[0m\n",
            "Building wheels for collected packages: dul-2021\n",
            "  Building wheel for dul-2021 (setup.py) ... \u001b[?25l\u001b[?25hdone\n",
            "  Created wheel for dul-2021: filename=dul_2021-0.1.0-py3-none-any.whl size=27640 sha256=b4de2f6acdc5af681d2468da722499c4103b694a81d3861ca90ae64944920958\n",
            "  Stored in directory: /tmp/pip-ephem-wheel-cache-r11t2w5o/wheels/55/59/29/0fb1c635652157734f4d741f32fc11979149684e83e919de06\n",
            "Successfully built dul-2021\n",
            "Installing collected packages: dul-2021\n",
            "  Attempting uninstall: dul-2021\n",
            "    Found existing installation: dul-2021 0.1.0\n",
            "    Uninstalling dul-2021-0.1.0:\n",
            "      Successfully uninstalled dul-2021-0.1.0\n",
            "Successfully installed dul-2021-0.1.0\n"
          ]
        }
      ]
    },
    {
      "cell_type": "code",
      "source": [
        "from dul_2021.utils.hw12_utils import *"
      ],
      "metadata": {
        "id": "VUu3B_L7azpr"
      },
      "execution_count": 15,
      "outputs": []
    },
    {
      "cell_type": "markdown",
      "source": [
        "# Question 1. VAT\n",
        "\n",
        "Here we will implement [VAT](https://arxiv.org/pdf/1704.03976.pdf).\n",
        "\n",
        "* Train labeled data with standatd cross-entropy loss\n",
        "\n",
        "* Use vat regularization for both unlabeled and labeled data\n",
        "\n",
        "* You can use architecture from practice\n",
        "\n",
        "* Dataset comes as pairs `x, y`. `x` is an image from CIFAR10. `y` is a label from `[0, 10]` if datapoint is labeled and `-1` otherwise.\n",
        "\n",
        "**Hyperparameters**\n",
        "\n",
        "* ξ= 10 \n",
        "* lr = 5e-4\n",
        "* num_epochs = 15\n",
        "\n",
        "\n",
        "\n",
        "**You will provide the following deliverables**\n",
        "\n",
        "\n",
        "1. Over the course of training, record loss ber batch.\n",
        "2. After each epoch calculate accuracy on test data."
      ],
      "metadata": {
        "id": "qo4zHxLOv5rX"
      }
    },
    {
      "cell_type": "code",
      "source": [
        "import torch.nn as nn\n",
        "import torch\n",
        "from torch.optim import Adam\n",
        "from tqdm import tqdm\n",
        "import numpy as np\n",
        "from torchvision import transforms\n",
        "import torch.nn.functional as F\n",
        "import copy\n",
        "from torchvision import transforms\n",
        "from torch.utils.data import Dataset, DataLoader"
      ],
      "metadata": {
        "id": "Tc0Bid5AhfhJ"
      },
      "execution_count": 16,
      "outputs": []
    },
    {
      "cell_type": "code",
      "source": [
        "class Net(nn.Module):\n",
        "    def __init__(self, n_classes=10, out_dim=128, hid_dim_full=128):\n",
        "        super(Net, self).__init__()\n",
        "\n",
        "        self.conv1 = nn.Conv2d(3, 16, 5, padding=2)\n",
        "        self.conv2 = nn.Conv2d(16, 16, 3, padding=1, stride=2)\n",
        "        self.conv3 = nn.Conv2d(16, 32, 5, padding=2)\n",
        "        self.conv4 = nn.Conv2d(32, 32, 3, padding=1, stride=2)\n",
        "        self.conv5 = nn.Conv2d(32, 32, 1)\n",
        "        self.conv6 = nn.Conv2d(32, 4, 1)\n",
        "\n",
        "        self.conv_to_fc = 8 * 8 * 4\n",
        "        self.fc1 = nn.Linear(self.conv_to_fc, hid_dim_full)\n",
        "        self.fc2 = nn.Linear(hid_dim_full, int(hid_dim_full // 2))\n",
        "\n",
        "        self.features = nn.Linear(int(hid_dim_full // 2), out_dim)\n",
        "        self.last = nn.Linear(out_dim, n_classes)\n",
        "\n",
        "\n",
        "    def forward(self, x):\n",
        "\n",
        "        x = F.relu(self.conv1(x))\n",
        "        x = F.relu(self.conv2(x))\n",
        "        x = F.relu(self.conv3(x))\n",
        "        x = F.relu(self.conv4(x))\n",
        "        x = F.relu(self.conv5(x))\n",
        "        x = F.relu(self.conv6(x))\n",
        "\n",
        "        x = x.view(-1, self.conv_to_fc)\n",
        "        x = F.relu(self.fc1(x))\n",
        "        x = F.relu(self.fc2(x))\n",
        "\n",
        "        features = self.features(x)\n",
        "\n",
        "        return self.last(features)"
      ],
      "metadata": {
        "id": "mP_lFpWUigV-"
      },
      "execution_count": 17,
      "outputs": []
    },
    {
      "cell_type": "code",
      "source": [
        "class VAT(nn.Module): \n",
        "    def __init__(self, n_classes=10, ksi=10, alpha=1):\n",
        "        super().__init__()\n",
        "        self.model = Net(n_classes=n_classes)\n",
        "\n",
        "        self.ksi = ksi\n",
        "        self.alpha = alpha\n",
        "\n",
        "    def forward(self, batch):\n",
        "        return self.model(batch)\n",
        "\n",
        "    def labeled_loss(self, x, y):\n",
        "        mask = (y == -1)\n",
        "        x, y = x[~mask], y[~mask]\n",
        "        y_pred = self.model(x)\n",
        "        loss = F.cross_entropy(y_pred, y, reduction=\"none\").mean()\n",
        "        return loss\n",
        "\n",
        "    def unlabeled_loss(self, x):\n",
        "        with torch.no_grad():\n",
        "            out = F.log_softmax(self.model(x), dim=1)\n",
        "\n",
        "        r_adv = self.ksi * F.normalize(torch.randn(x.shape).to(device), dim=(1,2,3))\n",
        "        r_adv.requires_grad_()\n",
        "\n",
        "        log_p = F.log_softmax(self.model(x+r_adv), dim=1)\n",
        "        dist = F.kl_div(log_p, out, reduction=\"batchmean\")\n",
        "        r_adv = F.normalize(torch.autograd.grad(dist, r_adv)[0], dim=(1, 2, 3))\n",
        "        \n",
        "        self.model.zero_grad()\n",
        "        log_p = F.log_softmax(self.model(x+r_adv), dim=1)\n",
        "        loss = F.kl_div(log_p, out, reduction=\"batchmean\")\n",
        "\n",
        "        return loss.mean()\n",
        "\n",
        "    def loss(self, x, y):\n",
        "        labeled = self.labeled_loss(x, y)\n",
        "        unlabeled = self.unlabeled_loss(x)\n",
        "        loss = labeled + self.alpha * unlabeled\n",
        "        return loss\n",
        "        "
      ],
      "metadata": {
        "id": "BZgMPZj0k9n-"
      },
      "execution_count": 32,
      "outputs": []
    },
    {
      "cell_type": "code",
      "source": [
        "device = 'cuda'\n",
        "\n",
        "def accuracy(model, test_loader):\n",
        "    model.eval()\n",
        "    acc = 0\n",
        "    total = 0\n",
        "    for x, y in iter(test_loader):\n",
        "        mask = (y != -1)\n",
        "        x = x.to(device)\n",
        "        y = y.to(device).long()\n",
        "        y_pred = torch.argmax(model(x[mask]), dim=1)\n",
        "        acc += (y_pred == y[mask]).sum()\n",
        "        total += x[mask].shape[0]\n",
        "    model.train()\n",
        "    return acc / total\n",
        "\n",
        "def train(model, train_data, test_data, epochs=15, lr=1e-3, bs=128):\n",
        "    opt = Adam(model.parameters(), lr=lr)\n",
        "    dataloader = DataLoader(train_data, batch_size=bs, shuffle=True)\n",
        "    test_dataloader = DataLoader(test_data, batch_size=bs)\n",
        "    model.train()\n",
        "    losses = []\n",
        "    accs = []\n",
        "\n",
        "    for epoch in tqdm(range(epochs)):\n",
        "        for x, y in iter(dataloader):\n",
        "            x = x.to(device)\n",
        "            y = y.to(device)\n",
        "\n",
        "            loss = model.loss(x, y)\n",
        "            opt.zero_grad()\n",
        "            loss.backward()\n",
        "            opt.step()\n",
        "\n",
        "            losses.append(loss.item())\n",
        "        accs.append(accuracy(model, test_dataloader).item())\n",
        "\n",
        "    return np.array(losses), np.array(accs)"
      ],
      "metadata": {
        "id": "46EhN5S-iYfa"
      },
      "execution_count": 39,
      "outputs": []
    },
    {
      "cell_type": "code",
      "source": [
        "def q1(train_data, test_data):\n",
        "    \"\"\"\n",
        "    train_data: An (n_train, 3, 32, 32) torchvision dataset of CIFAR10 images with values from -1 to 1\n",
        "\n",
        "    Returns\n",
        "    - a (# of training iterations, ) numpy array  losses on each iteration\n",
        "    - a (# of training epochs, ) numpy array accuracies on each epoch\n",
        "    \"\"\"\n",
        "\n",
        "    model = VAT()\n",
        "    model.to(device)\n",
        "\n",
        "    losses, accs = train(model, train_data, test_data, epochs=10, lr=5e-4)\n",
        "    return losses, accs"
      ],
      "metadata": {
        "id": "v3neKPxpZImJ"
      },
      "execution_count": 46,
      "outputs": []
    },
    {
      "cell_type": "code",
      "source": [
        "q12_results(q1)"
      ],
      "metadata": {
        "colab": {
          "base_uri": "https://localhost:8080/",
          "height": 625
        },
        "id": "saxnnzOCzkMx",
        "outputId": "0a5e15cc-39a3-4f9e-f9fa-f292e166fa52"
      },
      "execution_count": 47,
      "outputs": [
        {
          "output_type": "stream",
          "name": "stdout",
          "text": [
            "Files already downloaded and verified\n",
            "Files already downloaded and verified\n"
          ]
        },
        {
          "output_type": "stream",
          "name": "stderr",
          "text": [
            "100%|██████████| 10/10 [06:44<00:00, 40.42s/it]\n"
          ]
        },
        {
          "output_type": "display_data",
          "data": {
            "image/png": "[encoded data removed]",
            "text/plain": [
              "<Figure size 432x288 with 1 Axes>"
            ]
          },
          "metadata": {
            "needs_background": "light"
          }
        },
        {
          "output_type": "display_data",
          "data": {
            "image/png": "[encoded data removed]",
            "text/plain": [
              "<Figure size 432x288 with 1 Axes>"
            ]
          },
          "metadata": {
            "needs_background": "light"
          }
        }
      ]
    },
    {
      "cell_type": "markdown",
      "source": [
        "# Question 2. FixMatch\n",
        "\n",
        "Here we will implement [FixMatch](https://arxiv.org/abs/2001.07685).\n",
        "\n",
        "* Calculate loss on weakly augmented labeled data with standatd cross-entropy loss\n",
        "\n",
        "* Calculate loss on strongly augmented unlabeled data with standatd cross-entropy loss with pseudo-lables\n",
        "\n",
        "* Use SimCLR transformations as strong and RandomHorizontalFlip as weak\n",
        "\n",
        "* You can use architecture from practice\n",
        "\n",
        "* Dataset comes as pairs `x, y`. `x` is an image from CIFAR10. `y` is a label from `[0, 10]` if datapoint is labeled and `-1` otherwise.\n",
        "\n",
        "**Hyperparameters**\n",
        "\n",
        "* τ = 0.7 \n",
        "* λ_u = 10 (weight of unlabeled loss)\n",
        "* lr = 5e-4\n",
        "* num_epochs ~ 20 or more\n",
        "\n",
        "\n",
        "\n",
        "**You will provide the following deliverables**\n",
        "\n",
        "\n",
        "1. Over the course of training, record loss ber batch.\n",
        "2. After each epoch calculate accuracy on test data."
      ],
      "metadata": {
        "id": "zxgc1UFd_cpi"
      }
    },
    {
      "cell_type": "code",
      "source": [
        "from torchvision import transforms"
      ],
      "metadata": {
        "id": "9edY9b-aGJKj"
      },
      "execution_count": 48,
      "outputs": []
    },
    {
      "cell_type": "code",
      "source": [
        "class FixMatch(nn.Module):\n",
        "    def __init__(self, tau=0.7, mu=10):\n",
        "        super().__init__()\n",
        "        self.tau = tau\n",
        "        self.mu = mu\n",
        "        self.model = Net()\n",
        "        self.weak = transforms.RandomHorizontalFlip()\n",
        "        self.strong = transforms.Compose([transforms.RandomHorizontalFlip(),\n",
        "                                          transforms.RandomResizedCrop(size=32),\n",
        "                                          transforms.RandomApply([\n",
        "                                              transforms.ColorJitter(brightness=0.5, \n",
        "                                                                     contrast=0.5, \n",
        "                                                                     saturation=0.5, \n",
        "                                                                     hue=0.1)\n",
        "                                          ], p=0.8),\n",
        "                                          transforms.RandomGrayscale(p=0.2),\n",
        "                                          transforms.GaussianBlur(kernel_size=9),\n",
        "                                          transforms.Normalize((0.5,), (0.5,))\n",
        "                                         ])\n",
        "\n",
        "    def forward(self, x):\n",
        "        return self.model(x)\n",
        "\n",
        "    def loss(self, x, y):\n",
        "        mask = (y != -1)\n",
        "        y_pred_strong = self.model(self.strong(x))\n",
        "        strong_aug_loss = F.cross_entropy(y_pred_strong[mask], y[mask])\n",
        "\n",
        "        y_pred_weak = self.model(self.weak(x[~mask]))\n",
        "        y_pred_weak = F.softmax(y_pred_weak, dim=-1)\n",
        "        values, labels = torch.max(y_pred_weak, dim=-1)\n",
        "        mask_tau = (values > self.tau)\n",
        "        weak_aug_loss = F.cross_entropy(y_pred_strong[~mask][mask_tau], labels[mask_tau])\n",
        "\n",
        "        return strong_aug_loss + 1 / self.mu * weak_aug_loss\n"
      ],
      "metadata": {
        "id": "3jLZdTIZDLgI"
      },
      "execution_count": 57,
      "outputs": []
    },
    {
      "cell_type": "code",
      "source": [
        "def q2(train_data, test_data):\n",
        "    \"\"\"\n",
        "    train_data: An (n_train, 3, 32, 32) torchvision dataset of CIFAR10 images with values from -1 to 1\n",
        "\n",
        "    Returns\n",
        "    - a (# of training iterations, ) numpy array  losses on each iteration\n",
        "    - a (# of training epochs, ) numpy array accuracies on each epoch\n",
        "    \"\"\"\n",
        "    model = FixMatch()\n",
        "    model.to(device)\n",
        "\n",
        "    losses, accs = train(model, train_data, test_data, epochs=10, lr=5e-4)\n",
        "    return losses, accs"
      ],
      "metadata": {
        "id": "UZGq-KG9abw3"
      },
      "execution_count": 58,
      "outputs": []
    },
    {
      "cell_type": "code",
      "source": [
        "q12_results(q2)"
      ],
      "metadata": {
        "id": "ePG4-hS0abw_",
        "colab": {
          "base_uri": "https://localhost:8080/",
          "height": 625
        },
        "outputId": "52bff95e-a5ec-4748-dd34-f8144de78ca6"
      },
      "execution_count": 59,
      "outputs": [
        {
          "output_type": "stream",
          "name": "stdout",
          "text": [
            "Files already downloaded and verified\n",
            "Files already downloaded and verified\n"
          ]
        },
        {
          "output_type": "stream",
          "name": "stderr",
          "text": [
            "100%|██████████| 10/10 [04:49<00:00, 28.96s/it]\n"
          ]
        },
        {
          "output_type": "display_data",
          "data": {
            "image/png": "[encoded data removed]",
            "text/plain": [
              "<Figure size 432x288 with 1 Axes>"
            ]
          },
          "metadata": {
            "needs_background": "light"
          }
        },
        {
          "output_type": "display_data",
          "data": {
            "image/png": "[encoded data removed]",
            "text/plain": [
              "<Figure size 432x288 with 1 Axes>"
            ]
          },
          "metadata": {
            "needs_background": "light"
          }
        }
      ]
    },
    {
      "cell_type": "code",
      "source": [
        ""
      ],
      "metadata": {
        "id": "mzVcaBqkdd6s"
      },
      "execution_count": null,
      "outputs": []
    },
    {
      "cell_type": "markdown",
      "source": [
        "# Bonus\n",
        "\n",
        "## The probabilistic model\n",
        "\n",
        "*(this is a short summary of the model presented in [\"Semi-supervised Learning with\n",
        "Deep Generative Models\"](https://arxiv.org/pdf/1406.5298.pdf))*\n",
        "\n",
        "In the semi-supervised setting, the generative model is a little more complicated than vanilla VAE. In particular, it incorporates a new variable $y$ that represents the class of a digit $x$.\n",
        "\n",
        "\\begin{align*}\n",
        "& p(x, y, z) = p(x \\mid y, z) p(z) p(y) \\\\\n",
        "& p(y) = Cat(y \\mid \\pi_0), \\pi_0 = (1/10, \\dots, 1/10) \\\\\n",
        "& p(z) = \\mathcal N(z \\mid 0, I) \\\\\n",
        "& p(x \\mid y, z) = \\prod_{i=1}^D p_i(y, z)^{x_i} (1 - p_i(y, z))^{1 - x_i}\n",
        "\\end{align*}\n",
        "\n",
        "## The first part of the objective\n",
        "\n",
        "Whenever we train a probabilistic model with partial observations, we interpret the unobserved variables as latent variables. Then we marginalize them. In this case, the loss function splits into two terms: one for observed variables (we denote the set of indices of observed labels $P$), another for unobserved.\n",
        "\n",
        "\\begin{equation}\n",
        "L(X, y) = \\sum_{i \\notin P} \\log p(x_i) + \\sum_{i \\in P} \\log p(x_i, y_i)\n",
        "\\end{equation}\n",
        "\n",
        "Again, we can't compute the exact values of marginal likelihoods and resort to variational lower bound on likelihood. To compute lower bounds, we define the following variational approximation:\n",
        "\n",
        "\\begin{align*}\n",
        "& q(y, z \\mid x) = q(y \\mid x) q(z \\mid y, x)\\\\\n",
        "& \\\\\n",
        "& q(y \\mid x) = Cat(y \\mid \\pi(x))\\\\\n",
        "& q(z \\mid y, x) = \\mathcal N(z \\mid \\mu_\\phi(x, y), \\operatorname{diag}\\sigma^2_\\phi(y, x))\n",
        "\\end{align*}\n",
        "\n",
        "Using the variational approximation, we will obtain two lower bounds.\n",
        "\n",
        "First, the ELBO for $\\log p(x_i, y_i)$ for the observed variables (this one is similar to ELBO of VAE).\n",
        "\n",
        "\\begin{equation}\n",
        "\\log p(x, y) = \\log \\mathbb E_{p(z)} p(x, y \\mid z) \\geq \\mathbb E_{q(z \\mid y, x)} \\log \\frac{p(x, y \\mid z) p(z)}{q(z \\mid y, x)}\n",
        "\\end{equation}\n",
        "\n",
        "Second, the ELBO for $\\log p(x_i)$ for the unobserved variables.\n",
        "\n",
        "\\begin{equation}\n",
        "\\log p(x) = \\log \\mathbb E_{p(y)} \\mathbb E_{p(z \\mid y)} \\log p(x\\mid z, y)\\geq \\mathbb E_{q(y \\mid x)} \\mathbb E_{q(z \\mid y, x)} \\log \\frac{p(x, y \\mid z) p(z)}{q(z \\mid y, x) q(y \\mid x)}\n",
        "\\end{equation}\n",
        "\n",
        "Finally, the joint lower bound will be\n",
        "\n",
        "\\begin{equation}\n",
        "\\mathcal L(X, y) = \\sum_{i \\in P} \\mathbb E_{q(z_i \\mid y_i, x_i)} \\log \\frac{p(x_i, y_i \\mid z_i) p(z_i)}{q(z_i \\mid y_i, x_i)} + \\sum_{i \\notin P} \\mathbb E_{q(y_i \\mid x_i)} \\mathbb E_{q(z_i \\mid y_i, x_i)} \\log \\frac{p(x_i, y_i \\mid z_i) p(z_i)}{q(z_i \\mid y_i, x_i) q(y_i \\mid x_i)}\n",
        "\\end{equation}\n",
        "\n",
        "We will use reparametrized Monte-Carlo estimates to approximate expectation w.r.t. $z$. To approximate expectaion w.r.t. the discrete variable $y$ we will try three different options."
      ],
      "metadata": {
        "id": "70Ckao5QSblC"
      }
    },
    {
      "cell_type": "code",
      "source": [
        "def b(train_data, test_data):\n",
        "    \"\"\"\n",
        "    train_data: An (n_train, 1, 28, 28) torchvision dataset of binary MNIST images\n",
        "    Returns\n",
        "    - a (# of training iterations, ) numpy array  losses on each iteration\n",
        "    - a (# of training epochs, ) numpy array accuracies on each epoch\n",
        "    \"\"\""
      ],
      "metadata": {
        "id": "opRfI5beScTp"
      },
      "execution_count": null,
      "outputs": []
    }
  ]
}